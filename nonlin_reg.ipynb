{
 "cells": [
  {
   "cell_type": "code",
   "execution_count": 1,
   "metadata": {},
   "outputs": [],
   "source": [
    "#import modules\n",
    "import matplotlib.pyplot as plt\n",
    "from math import *#\n",
    "import numpy\n",
    "from scipy.optimize import curve_fit, minimize\n",
    "\n",
    "#import directly from asc-files\n",
    "file=open('inac_traces.txt','r')\n",
    "datas=file.readlines()\n",
    "\n",
    "k=0\n",
    "ydata=[]\n",
    "xdata=[]\n",
    "#finding the line where the data begins\n",
    "for i in range(len(datas)):\n",
    "    s=datas[i]\n",
    "    if s.find('Index')!=-1:  #by using the \"Index\" Header\n",
    "        k=i+1\n",
    "        break\n",
    "        \n",
    "#slicing non-data lines from list\n",
    "datas=datas[k:]\n",
    "#slicing a line into x and y data\n",
    "for i in range(0,len(datas)):\n",
    "    s=datas[i]\n",
    "    b=s.find(',')  #by finding the ','\n",
    "    if b==-1:\n",
    "        break\n",
    "    \n",
    "    s=s[b+2:]\n",
    "    b=s.index(',')\n",
    "    xdata.append(float(s[:b]))\n",
    "    ydata.append(float(s[b+2:len(s)-1]))\n",
    "\n",
    "#bubblesort for sorting the data, otherwise the plot becomes funny sometimes\n",
    "for i in range(len(datas)):\n",
    "    for z in range(0, len(datas)-i-1):\n",
    "        if xdata[z]>xdata[z+1]:\n",
    "            xdata[z],xdata[z+1] = xdata[z+1], xdata[z]\n",
    "            ydata[z],ydata[z+1] = ydata[z+1], ydata[z]\n",
    "\n",
    "#calculating guess for parameter c (offset in y-direction)\n",
    "c=ydata[1]\n",
    "for i in range(len(ydata)):\n",
    "    if c>ydata[i]:\n",
    "        c=ydata[i]\n",
    "\n",
    "#calculating guess for parameter m (offset in x-direction)\n",
    "o=ydata[1]\n",
    "for i in range(len(ydata)):\n",
    "    if o<ydata[i]:\n",
    "        o=ydata[i]\n",
    "\n",
    "ab=abs(ydata[1]-abs(o-c)/2)\n",
    "for i in range(len(xdata)):\n",
    "    if ab>abs(abs(ydata[i])-abs(o-c)/2):\n",
    "        ab=abs(abs(ydata[i])-abs(o-c)/2)\n",
    "        j=i\n",
    "        \n",
    "#defining guess parameter for k (stretches the function in x-direction)\n",
    "g=1E-2"
   ]
  },
  {
   "cell_type": "code",
   "execution_count": 4,
   "metadata": {},
   "outputs": [
    {
     "name": "stdout",
     "output_type": "stream",
     "text": [
      "1.1460608038197953e-07\n",
      "[-6.89568282e-02 -9.20109734e-03 -4.87395860e-09]\n"
     ]
    },
    {
     "data": {
      "image/png": "[encoded data removed]",
      "text/plain": [
       "<Figure size 432x288 with 1 Axes>"
      ]
     },
     "metadata": {
      "needs_background": "light"
     },
     "output_type": "display_data"
    }
   ],
   "source": [
    "#fit with curvefit\n",
    "w,d=curve_fit(funcinacc, xdata, ydata, p0=(xdata[j],g, (o-c)))      \n",
    "\n",
    "#configurations for p0:\n",
    "#inac- Function: xdata[j],g, (o-c)\n",
    "\n",
    "#define/clear sequence\n",
    "datan=[]\n",
    "#calculate function with parameters\n",
    "for i in range(len(xdata)):\n",
    "    datan.append(funcinacc(xdata[i], w[0], w[1], w[2]))\n",
    "#plot data\n",
    "plt.plot(xdata, (numpy.array(ydata)), 'bo')\n",
    "plt.plot(xdata, (numpy.array(datan)), 'r-')\n",
    "#output parameters and the mean difference between the function and the data\n",
    "print(funinac(numpy.array(xdata),numpy.array(ydata),c)(w))\n",
    "print(w)"
   ]
  },
  {
   "cell_type": "code",
   "execution_count": 5,
   "metadata": {},
   "outputs": [
    {
     "name": "stdout",
     "output_type": "stream",
     "text": [
      "2.1125944943412502e-09\n",
      "[-6.91684091e-02  1.00403064e-02  4.99535082e-09]\n"
     ]
    },
    {
     "data": {
      "image/png": "[encoded data removed]",
      "text/plain": [
       "<Figure size 432x288 with 1 Axes>"
      ]
     },
     "metadata": {
      "needs_background": "light"
     },
     "output_type": "display_data"
    }
   ],
   "source": [
    "#Initial guess\n",
    "p0=[xdata[j],g, (o-c)]\n",
    "#convert sequence to array (otherwise minimize shits its pants)\n",
    "xar=numpy.array(xdata)\n",
    "yar=numpy.array(ydata)\n",
    "#minimize distance function using differnet methods\n",
    "m=minimize(funinac(xar, yar,c), p0, method='CG')\n",
    "n=minimize(funinac(xar, yar,c), p0, method='Nelder-Mead')\n",
    "p=minimize(funinac(xar, yar,c), p0, method='BFGS')\n",
    "\n",
    "#chossing which mwthod is the best and using it\n",
    "if (funinac(xar,yar,c)(m.x))>(funinac(xar,yar,c)(n.x)):\n",
    "    if(funinac(xar,yar,c)(n.x))>(funinac(xar,yar,c)(p.x)):\n",
    "        m=p;\n",
    "    else:\n",
    "        m=n\n",
    "elif(funinac(xar,yar,c)(n.x))>(funinac(xar,yar,c)(o.x)):\n",
    "    m=o    \n",
    "    \n",
    "#define/clear sequence\n",
    "wdata=[]\n",
    "#calculate function\n",
    "wdata=funcinac(xar, m.x[0], m.x[1], m.x[2],c)\n",
    "war=numpy.array(wdata)\n",
    "#plot data\n",
    "plt.plot((xar), (war), 'r-')\n",
    "plt.plot((xar), (yar), 'bo')\n",
    "#output\n",
    "print(funinac(xar,yar,c)(m.x))\n",
    "print(m.x)"
   ]
  },
  {
   "cell_type": "markdown",
   "metadata": {},
   "source": [
    "Funktionenlager:\n",
    "(Schema: Funktion\n",
    "         Abstandsfunktion\n",
    "         Funktion ohne offset)"
   ]
  },
  {
   "cell_type": "code",
   "execution_count": 31,
   "metadata": {},
   "outputs": [],
   "source": [
    "def func(x, a, b, n=2):  #amöbe-funktion\n",
    "    return a/(1+(a/n-1)*e**(-b*x))\n",
    "\n",
    "def fun(x, y):  #amöbe-fkt\n",
    "    return lambda m: sum(abs(y- (m[0]/(1+(m[0]/m[2]-1)*e**(-m[1]*x))) ))# + 5*e**(-220)*(-m[1])**2*(m[0]/(1+(m[0]/n-1)*e**(-m[1]*x))) )"
   ]
  },
  {
   "cell_type": "code",
   "execution_count": 11,
   "metadata": {},
   "outputs": [],
   "source": [
    "def funcac(x, m, k, a):   #ac-func\n",
    "    return a/(1+e**((x-m)/k))\n",
    "\n",
    "def funac(x,y,c):\n",
    "    return lambda m: sum(abs(y- (1/(1+e**((x-m[0])/m[1]))-c) ))"
   ]
  },
  {
   "cell_type": "code",
   "execution_count": 9,
   "metadata": {},
   "outputs": [],
   "source": [
    "def funce(x, a, b, c): #exp-fkt\n",
    "    return a*e**(-x/b)+c\n",
    "\n",
    "def fune(x,y):\n",
    "    return lambda m: sum(abs(y- (m[0]*e**(-x/[1])+m[2]) ))"
   ]
  },
  {
   "cell_type": "code",
   "execution_count": 10,
   "metadata": {},
   "outputs": [],
   "source": [
    "def funcde(x, a, b, d, f,c,):  #double exp-fct\n",
    "    return a*e**(-x/b)-d*e**(-x/f)+c\n",
    "\n",
    "def funde(x, y):  #exp-fkt\n",
    "    return lambda m: sum(abs(y- ((m[0]*e**(-x/m[1]))-(m[2]*e**(-x/m[3]))+m[4] )))\n",
    "\n",
    "def funcec(x, a, b, d, f):  \n",
    "    return a*e**(-x/b)-d*e**(-x/f)"
   ]
  },
  {
   "cell_type": "code",
   "execution_count": 3,
   "metadata": {},
   "outputs": [],
   "source": [
    "def funcinac(x, m, k, a, c): #inac function\n",
    "    return a/(1+e**-((x-m)/k))+c\n",
    "\n",
    "def funinac(x,y,c):\n",
    "    return lambda m: sum(abs(y- (m[2]/(1+e**-((x-m[0])/m[1]))+c) ))\n",
    "\n",
    "def funcinacc(x, m, k, a): \n",
    "    return (a/(1+e**-((x-m)/k)))"
   ]
  },
  {
   "cell_type": "markdown",
   "metadata": {},
   "source": [
    "Debug Teststrecke"
   ]
  },
  {
   "cell_type": "code",
   "execution_count": 22,
   "metadata": {},
   "outputs": [
    {
     "data": {
      "text/plain": [
       "[<matplotlib.lines.Line2D at 0x7f3ebbf983c8>]"
      ]
     },
     "execution_count": 22,
     "metadata": {},
     "output_type": "execute_result"
    },
    {
     "data": {
      "image/png": "[encoded data removed]",
      "text/plain": [
       "<Figure size 432x288 with 1 Axes>"
      ]
     },
     "metadata": {
      "needs_background": "light"
     },
     "output_type": "display_data"
    }
   ],
   "source": [
    "xar=numpy.array(xdata)\n",
    "yar=numpy.array(ydata)\n",
    "\n",
    "\n",
    "nyar=test(xar, 0.000000007, 5.5, c, 0.12)\n",
    "\n",
    "plt.plot(xar, nyar, 'r-')\n",
    "plt.plot(xar, yar, 'bo')"
   ]
  },
  {
   "cell_type": "code",
   "execution_count": 65,
   "metadata": {},
   "outputs": [],
   "source": [
    "def test(x, a, b, c, d):\n",
    "    return a*e**(-b*(x+d))+c"
   ]
  },
  {
   "cell_type": "code",
   "execution_count": 135,
   "metadata": {},
   "outputs": [
    {
     "name": "stdout",
     "output_type": "stream",
     "text": [
      "-4.827021005\n"
     ]
    }
   ],
   "source": [
    "print(c)"
   ]
  },
  {
   "cell_type": "code",
   "execution_count": 3,
   "metadata": {},
   "outputs": [
    {
     "ename": "NameError",
     "evalue": "name 'm' is not defined",
     "output_type": "error",
     "traceback": [
      "\u001b[0;31m\u001b[0m",
      "\u001b[0;31mNameError\u001b[0mTraceback (most recent call last)",
      "\u001b[0;32m<ipython-input-3-9a40b379906c>\u001b[0m in \u001b[0;36m<module>\u001b[0;34m\u001b[0m\n\u001b[0;32m----> 1\u001b[0;31m \u001b[0mm\u001b[0m\u001b[0;34m\u001b[0m\u001b[0;34m\u001b[0m\u001b[0m\n\u001b[0m",
      "\u001b[0;31mNameError\u001b[0m: name 'm' is not defined"
     ]
    }
   ],
   "source": [
    "m"
   ]
  },
  {
   "cell_type": "markdown",
   "metadata": {},
   "source": [
    "Debug/Logistik für System und Metadinge"
   ]
  },
  {
   "cell_type": "code",
   "execution_count": 2,
   "metadata": {},
   "outputs": [
    {
     "name": "stdout",
     "output_type": "stream",
     "text": [
      "Collecting package metadata: done\n",
      "Solving environment: done\n",
      "\n",
      "\n",
      "==> WARNING: A newer version of conda exists. <==\n",
      "  current version: 4.6.14\n",
      "  latest version: 4.7.11\n",
      "\n",
      "Please update conda by running\n",
      "\n",
      "    $ conda update -n base conda\n",
      "\n",
      "\n",
      "\n",
      "## Package Plan ##\n",
      "\n",
      "  environment location: /opt/conda\n",
      "\n",
      "  added / updated specs:\n",
      "    - scipy\n",
      "\n",
      "\n",
      "The following packages will be downloaded:\n",
      "\n",
      "    package                    |            build\n",
      "    ---------------------------|-----------------\n",
      "    libblas-3.8.0              |      12_openblas          10 KB  conda-forge\n",
      "    libcblas-3.8.0             |      12_openblas          10 KB  conda-forge\n",
      "    libgfortran-ng-7.3.0       |       hdf63c60_0         1.3 MB  defaults\n",
      "    liblapack-3.8.0            |      12_openblas          10 KB  conda-forge\n",
      "    libopenblas-0.3.7          |       h6e990d7_1         7.6 MB  conda-forge\n",
      "    numpy-1.17.1               |   py37h95a1406_0         5.2 MB  conda-forge\n",
      "    scipy-1.3.1                |   py37h921218d_2        18.1 MB  conda-forge\n",
      "    ------------------------------------------------------------\n",
      "                                           Total:        32.3 MB\n",
      "\n",
      "The following NEW packages will be INSTALLED:\n",
      "\n",
      "  libblas            conda-forge/linux-64::libblas-3.8.0-12_openblas\n",
      "  libcblas           conda-forge/linux-64::libcblas-3.8.0-12_openblas\n",
      "  libgfortran-ng     pkgs/main/linux-64::libgfortran-ng-7.3.0-hdf63c60_0\n",
      "  liblapack          conda-forge/linux-64::liblapack-3.8.0-12_openblas\n",
      "  libopenblas        conda-forge/linux-64::libopenblas-0.3.7-h6e990d7_1\n",
      "  numpy              conda-forge/linux-64::numpy-1.17.1-py37h95a1406_0\n",
      "  scipy              conda-forge/linux-64::scipy-1.3.1-py37h921218d_2\n",
      "\n",
      "\n",
      "\n",
      "Downloading and Extracting Packages\n",
      "libblas-3.8.0        | 10 KB     | ##################################### | 100% \n",
      "scipy-1.3.1          | 18.1 MB   | ##################################### | 100% \n",
      "liblapack-3.8.0      | 10 KB     | ##################################### | 100% \n",
      "libcblas-3.8.0       | 10 KB     | ##################################### | 100% \n",
      "numpy-1.17.1         | 5.2 MB    | ##################################### | 100% \n",
      "libopenblas-0.3.7    | 7.6 MB    | ##################################### | 100% \n",
      "libgfortran-ng-7.3.0 | 1.3 MB    | ##################################### | 100% \n",
      "Preparing transaction: done\n",
      "Verifying transaction: done\n",
      "Executing transaction: done\n",
      "Collecting package metadata: done\n",
      "Solving environment: done\n",
      "\n",
      "\n",
      "==> WARNING: A newer version of conda exists. <==\n",
      "  current version: 4.6.14\n",
      "  latest version: 4.7.11\n",
      "\n",
      "Please update conda by running\n",
      "\n",
      "    $ conda update -n base conda\n",
      "\n",
      "\n",
      "\n",
      "## Package Plan ##\n",
      "\n",
      "  environment location: /opt/conda\n",
      "\n",
      "  added / updated specs:\n",
      "    - matplotlib\n",
      "\n",
      "\n",
      "The following packages will be downloaded:\n",
      "\n",
      "    package                    |            build\n",
      "    ---------------------------|-----------------\n",
      "    cycler-0.10.0              |             py_1           8 KB  conda-forge\n",
      "    gnuplot-5.2.7              |       he39d25e_2         1.1 MB  conda-forge\n",
      "    kiwisolver-1.1.0           |   py37hc9558a2_0          86 KB  conda-forge\n",
      "    matplotlib-3.1.1           |           py37_1           6 KB  conda-forge\n",
      "    matplotlib-base-3.1.1      |   py37he7580a8_1         6.7 MB  conda-forge\n",
      "    pyparsing-2.4.2            |             py_0          57 KB  conda-forge\n",
      "    pyqt-5.9.2                 |   py37hcca6a23_2         5.7 MB  conda-forge\n",
      "    qt-5.9.7                   |       h0c104cb_3        80.8 MB  conda-forge\n",
      "    sip-4.19.8                 |py37hf484d3e_1000         290 KB  conda-forge\n",
      "    ------------------------------------------------------------\n",
      "                                           Total:        94.7 MB\n",
      "\n",
      "The following NEW packages will be INSTALLED:\n",
      "\n",
      "  cycler             conda-forge/noarch::cycler-0.10.0-py_1\n",
      "  kiwisolver         conda-forge/linux-64::kiwisolver-1.1.0-py37hc9558a2_0\n",
      "  matplotlib         conda-forge/linux-64::matplotlib-3.1.1-py37_1\n",
      "  matplotlib-base    conda-forge/linux-64::matplotlib-base-3.1.1-py37he7580a8_1\n",
      "  pyparsing          conda-forge/noarch::pyparsing-2.4.2-py_0\n",
      "  pyqt               conda-forge/linux-64::pyqt-5.9.2-py37hcca6a23_2\n",
      "  sip                conda-forge/linux-64::sip-4.19.8-py37hf484d3e_1000\n",
      "\n",
      "The following packages will be DOWNGRADED:\n",
      "\n",
      "  gnuplot                                  5.2.7-h0fb2448_3 --> 5.2.7-he39d25e_2\n",
      "  qt                                      5.12.1-hbfa2a6e_0 --> 5.9.7-h0c104cb_3\n",
      "\n",
      "\n",
      "\n",
      "Downloading and Extracting Packages\n",
      "pyqt-5.9.2           | 5.7 MB    | ##################################### | 100% \n",
      "pyparsing-2.4.2      | 57 KB     | ##################################### | 100% \n",
      "matplotlib-base-3.1. | 6.7 MB    | ##################################### | 100% \n",
      "gnuplot-5.2.7        | 1.1 MB    | ##################################### | 100% \n",
      "kiwisolver-1.1.0     | 86 KB     | ##################################### | 100% \n",
      "matplotlib-3.1.1     | 6 KB      | ##################################### | 100% \n",
      "qt-5.9.7             | 80.8 MB   | ##################################### | 100% \n",
      "sip-4.19.8           | 290 KB    | ##################################### | 100% \n",
      "cycler-0.10.0        | 8 KB      | ##################################### | 100% \n",
      "Preparing transaction: done\n",
      "Verifying transaction: done\n",
      "Executing transaction: done\n"
     ]
    }
   ],
   "source": [
    "import sys\n",
    "!conda install --yes --prefix {sys.prefix} scipy\n",
    "!conda install --yes --prefix {sys.prefix} matplotlib"
   ]
  },
  {
   "cell_type": "code",
   "execution_count": null,
   "metadata": {},
   "outputs": [],
   "source": [
    "help('modules')"
   ]
  },
  {
   "cell_type": "code",
   "execution_count": null,
   "metadata": {},
   "outputs": [],
   "source": []
  }
 ],
 "metadata": {
  "kernelspec": {
   "display_name": "Python 3",
   "language": "python",
   "name": "python3"
  },
  "language_info": {
   "codemirror_mode": {
    "name": "ipython",
    "version": 3
   },
   "file_extension": ".py",
   "mimetype": "text/x-python",
   "name": "python",
   "nbconvert_exporter": "python",
   "pygments_lexer": "ipython3",
   "version": "3.7.3"
  }
 },
 "nbformat": 4,
 "nbformat_minor": 2
}
